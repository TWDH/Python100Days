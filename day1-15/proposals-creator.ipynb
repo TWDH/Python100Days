{
 "cells": [
  {
   "cell_type": "code",
   "execution_count": 12,
   "metadata": {},
   "outputs": [],
   "source": [
    "import numpy as np\n"
   ]
  },
  {
   "cell_type": "code",
   "execution_count": 27,
   "metadata": {},
   "outputs": [],
   "source": [
    "base_size=16\n",
    "ratios=[0.5, 1, 2]\n",
    "base_anchor = np.array([1, 1, base_size, base_size]) - 1   "
   ]
  },
  {
   "cell_type": "code",
   "execution_count": 28,
   "metadata": {},
   "outputs": [],
   "source": [
    "def _whctrs(anchor):\n",
    "    \"\"\"\n",
    "    Return width, height, x center, and y center for an anchor (window).\n",
    "    \"\"\"\n",
    "\n",
    "    w = anchor[2] - anchor[0] + 1\n",
    "    h = anchor[3] - anchor[1] + 1\n",
    "    x_ctr = anchor[0] + 0.5 * (w - 1)\n",
    "    y_ctr = anchor[1] + 0.5 * (h - 1)\n",
    "    return w, h, x_ctr, y_ctr"
   ]
  },
  {
   "cell_type": "code",
   "execution_count": 29,
   "metadata": {},
   "outputs": [
    {
     "name": "stdout",
     "output_type": "stream",
     "text": [
      "width, height, x center, y center: (16, 16, 7.5, 7.5)\n"
     ]
    }
   ],
   "source": [
    "print(\"width, height, x center, y center:\",_whctrs(base_anchor))"
   ]
  },
  {
   "cell_type": "code",
   "execution_count": 30,
   "metadata": {},
   "outputs": [
    {
     "name": "stdout",
     "output_type": "stream",
     "text": [
      "size: 256\n",
      "size_ratio: [512. 256. 128.]\n",
      "ws: [23. 16. 11.]\n",
      "hs: [12. 16. 22.]\n"
     ]
    }
   ],
   "source": [
    "w, h, x_ctr, y_ctr =_whctrs(base_anchor)\n",
    "size = w * h\n",
    "print(\"size:\",size)\n",
    "size_ratios = size / ratios\n",
    "print(\"size_ratio:\",size_ratios)\n",
    "ws = np.round(np.sqrt(size_ratios))\n",
    "print(\"ws:\",ws)\n",
    "hs = np.round(ws * ratios)\n",
    "print(\"hs:\",hs)"
   ]
  },
  {
   "cell_type": "code",
   "execution_count": 31,
   "metadata": {},
   "outputs": [
    {
     "name": "stdout",
     "output_type": "stream",
     "text": [
      "ws: [[23.]\n",
      " [16.]\n",
      " [11.]]\n",
      "hs: [[12.]\n",
      " [16.]\n",
      " [22.]]\n",
      "anchors： [[-3.5  2.  18.5 13. ]\n",
      " [ 0.   0.  15.  15. ]\n",
      " [ 2.5 -3.  12.5 18. ]]\n"
     ]
    }
   ],
   "source": [
    "ws = ws[:, np.newaxis]\n",
    "print(\"ws:\",ws)\n",
    "hs = hs[:, np.newaxis]\n",
    "print(\"hs:\",hs)\n",
    "anchors = np.hstack((x_ctr - 0.5 * (ws - 1),\n",
    "                         y_ctr - 0.5 * (hs - 1),\n",
    "                         x_ctr + 0.5 * (ws - 1),\n",
    "                         y_ctr + 0.5 * (hs - 1)))\n",
    "print(\"anchors：\",anchors)\n",
    "\n"
   ]
  },
  {
   "cell_type": "code",
   "execution_count": 52,
   "metadata": {},
   "outputs": [
    {
     "data": {
      "text/plain": [
       "(3, 4)"
      ]
     },
     "execution_count": 52,
     "metadata": {},
     "output_type": "execute_result"
    }
   ],
   "source": [
    "anchors"
   ]
  },
  {
   "cell_type": "code",
   "execution_count": 37,
   "metadata": {},
   "outputs": [],
   "source": [
    "def _scale_enum(anchor, scales):\n",
    "    \"\"\"\n",
    "    Enumerate a set of anchors for each scale wrt an anchor.\n",
    "    \"\"\"\n",
    "\n",
    "    w, h, x_ctr, y_ctr = _whctrs(anchor)\n",
    "    ws = w * scales\n",
    "    hs = h * scales\n",
    "    anchors = _mkanchors(ws, hs, x_ctr, y_ctr)\n",
    "    return anchors"
   ]
  },
  {
   "cell_type": "code",
   "execution_count": 50,
   "metadata": {},
   "outputs": [],
   "source": [
    "scales=np.array([8,16,32])"
   ]
  },
  {
   "cell_type": "code",
   "execution_count": 51,
   "metadata": {},
   "outputs": [
    {
     "data": {
      "text/plain": [
       "array([[ -56.,  -56.,   71.,   71.],\n",
       "       [-120., -120.,  135.,  135.],\n",
       "       [-248., -248.,  263.,  263.]])"
      ]
     },
     "execution_count": 51,
     "metadata": {},
     "output_type": "execute_result"
    }
   ],
   "source": [
    "_scale_enum(anchors[1,:],scales)"
   ]
  },
  {
   "cell_type": "code",
   "execution_count": 2,
   "metadata": {},
   "outputs": [],
   "source": [
    "import numpy as np\n",
    "import pdb\n",
    "\n",
    "# Verify that we compute the same anchors as Shaoqing's matlab implementation:\n",
    "#\n",
    "#    >> load output/rpn_cachedir/faster_rcnn_VOC2007_ZF_stage1_rpn/anchors.mat\n",
    "#    >> anchors\n",
    "#\n",
    "#    anchors =\n",
    "# w:h=2:1\n",
    "#       -83   -39   100    56\n",
    "#      -175   -87   192   104\n",
    "#      -359  -183   376   200\n",
    "# w:h=1:1\n",
    "#       -55   -55    72    72\n",
    "#      -119  -119   136   136\n",
    "#      -247  -247   264   264\n",
    "# w:h=1:2\n",
    "#       -35   -79    52    96\n",
    "#       -79  -167    96   184\n",
    "#      -167  -343   184   360\n",
    "\n",
    "#array([[ -83.,  -39.,  100.,   56.],\n",
    "#       [-175.,  -87.,  192.,  104.],\n",
    "#       [-359., -183.,  376.,  200.],\n",
    "#       [ -55.,  -55.,   72.,   72.],\n",
    "#       [-119., -119.,  136.,  136.],\n",
    "#       [-247., -247.,  264.,  264.],\n",
    "#       [ -35.,  -79.,   52.,   96.],\n",
    "#       [ -79., -167.,   96.,  184.],\n",
    "#       [-167., -343.,  184.,  360.]])\n",
    "\n",
    "try:\n",
    "    xrange          # Python 2\n",
    "except NameError:\n",
    "    xrange = range  # Python 3\n",
    "\n",
    "# anchor=[x1,y1,x2,y2]\n",
    "def generate_anchors(base_size=16, ratios=[0.5, 1, 2],\n",
    "                     scales=2**np.arange(3, 6)): #[8,16,32]\n",
    "    \"\"\"\n",
    "    Generate anchor (reference) windows by enumerating aspect ratios（长宽比） X \n",
    "    scales wrt a reference (0, 0, 15, 15) window.\n",
    "    \"\"\"\n",
    "\n",
    "    base_anchor = np.array([1, 1, base_size, base_size]) - 1   # [0,0,15,15]\n",
    "    # return同一中心点的3种不同比例的anchor [x1,y1,x2,y2] * 3\n",
    "    ratio_anchors = _ratio_enum(base_anchor, ratios)\n",
    "    # ratio_anchors.shape =[3,4]\n",
    "    anchors = np.vstack([_scale_enum(ratio_anchors[i, :], scales)\n",
    "                         for i in xrange(ratio_anchors.shape[0])])\n",
    "    return anchors\n",
    "\n",
    "def _whctrs(anchor):\n",
    "    \"\"\"\n",
    "    中心点\n",
    "    Return width, height, x center, and y center for an anchor (window).\n",
    "    \"\"\"\n",
    "\n",
    "    w = anchor[2] - anchor[0] + 1\n",
    "    h = anchor[3] - anchor[1] + 1\n",
    "    x_ctr = anchor[0] + 0.5 * (w - 1)\n",
    "    y_ctr = anchor[1] + 0.5 * (h - 1)\n",
    "    return w, h, x_ctr, y_ctr\n",
    "\n",
    "def _mkanchors(ws, hs, x_ctr, y_ctr):\n",
    "    \"\"\"\n",
    "    得到anchor\n",
    "    Given a vector of widths (ws) and heights (hs) around a center\n",
    "    (x_ctr, y_ctr), output a set of anchors (windows).\n",
    "    \"\"\"\n",
    "\n",
    "    ws = ws[:, np.newaxis]  #shape(3,1)\n",
    "    hs = hs[:, np.newaxis]\n",
    "    anchors = np.hstack((x_ctr - 0.5 * (ws - 1),\n",
    "                         y_ctr - 0.5 * (hs - 1),\n",
    "                         x_ctr + 0.5 * (ws - 1),\n",
    "                         y_ctr + 0.5 * (hs - 1)))\n",
    "    return anchors\n",
    "\n",
    "def _ratio_enum(anchor, ratios):\n",
    "    \"\"\"\n",
    "    重组不同比例\n",
    "    Enumerate a set of anchors for each aspect ratio wrt an anchor.\n",
    "    \"\"\"\n",
    "    #保证不同比例的anchors面积相同，小数点误差\n",
    "    w, h, x_ctr, y_ctr = _whctrs(anchor)\n",
    "    size = w * h     #256 =16*16\n",
    "    size_ratios = size / ratios   # [512,256,128]\n",
    "    ws = np.round(np.sqrt(size_ratios)) #[23. 16. 11.]\n",
    "    hs = np.round(ws * ratios) #[12. 16. 22.]\n",
    "    anchors = _mkanchors(ws, hs, x_ctr, y_ctr)\n",
    "    return anchors\n",
    "\n",
    "def _scale_enum(anchor, scales):\n",
    "    \"\"\"\n",
    "    不同大小\n",
    "    Enumerate a set of anchors for each scale wrt an anchor.\n",
    "    \"\"\"\n",
    "\n",
    "    w, h, x_ctr, y_ctr = _whctrs(anchor)\n",
    "    ws = w * scales\n",
    "    hs = h * scales\n",
    "    anchors = _mkanchors(ws, hs, x_ctr, y_ctr)\n",
    "    return anchors\n",
    "\n",
    "a = generate_anchors()\n"
   ]
  },
  {
   "cell_type": "code",
   "execution_count": 40,
   "metadata": {},
   "outputs": [
    {
     "data": {
      "text/plain": [
       "array([[ -84.,  -40.,   99.,   55.],\n",
       "       [-176.,  -88.,  191.,  103.],\n",
       "       [-360., -184.,  375.,  199.],\n",
       "       [ -56.,  -56.,   71.,   71.],\n",
       "       [-120., -120.,  135.,  135.],\n",
       "       [-248., -248.,  263.,  263.],\n",
       "       [ -36.,  -80.,   51.,   95.],\n",
       "       [ -80., -168.,   95.,  183.],\n",
       "       [-168., -344.,  183.,  359.]])"
      ]
     },
     "execution_count": 40,
     "metadata": {},
     "output_type": "execute_result"
    }
   ],
   "source": [
    "a"
   ]
  },
  {
   "cell_type": "code",
   "execution_count": 9,
   "metadata": {},
   "outputs": [],
   "source": [
    "import torch\n",
    "anchors = torch.from_numpy(a)"
   ]
  },
  {
   "cell_type": "code",
   "execution_count": 13,
   "metadata": {},
   "outputs": [],
   "source": [
    "_num_anchors=anchors.size(0)"
   ]
  },
  {
   "cell_type": "code",
   "execution_count": 18,
   "metadata": {},
   "outputs": [
    {
     "name": "stdout",
     "output_type": "stream",
     "text": [
      "shift_x: [  0  16  32  48  64  80  96 112 128 144]\n",
      "shift_y: [  0  16  32  48  64  80  96 112 128 144]\n"
     ]
    }
   ],
   "source": [
    "feat_height=10\n",
    "feat_width=10\n",
    "feat_stride=16\n",
    "\n",
    "shift_x = np.arange(0, feat_width) * feat_stride    #shape: [width,] 特征图相对于原图的偏移\n",
    "shift_y = np.arange(0, feat_height) * feat_stride \n",
    "print(\"shift_x:\",shift_x)\n",
    "print(\"shift_y:\",shift_y)"
   ]
  },
  {
   "cell_type": "code",
   "execution_count": 29,
   "metadata": {},
   "outputs": [
    {
     "data": {
      "text/plain": [
       "array([  0,  16,  32,  48,  64,  80,  96, 112, 128, 144,   0,  16,  32,\n",
       "        48,  64,  80,  96, 112, 128, 144,   0,  16,  32,  48,  64,  80,\n",
       "        96, 112, 128, 144,   0,  16,  32,  48,  64,  80,  96, 112, 128,\n",
       "       144,   0,  16,  32,  48,  64,  80,  96, 112, 128, 144,   0,  16,\n",
       "        32,  48,  64,  80,  96, 112, 128, 144,   0,  16,  32,  48,  64,\n",
       "        80,  96, 112, 128, 144,   0,  16,  32,  48,  64,  80,  96, 112,\n",
       "       128, 144,   0,  16,  32,  48,  64,  80,  96, 112, 128, 144,   0,\n",
       "        16,  32,  48,  64,  80,  96, 112, 128, 144])"
      ]
     },
     "execution_count": 29,
     "metadata": {},
     "output_type": "execute_result"
    }
   ],
   "source": [
    "shift_x.ravel()"
   ]
  },
  {
   "cell_type": "code",
   "execution_count": 19,
   "metadata": {},
   "outputs": [
    {
     "name": "stdout",
     "output_type": "stream",
     "text": [
      "shift_x: [[  0  16  32  48  64  80  96 112 128 144]\n",
      " [  0  16  32  48  64  80  96 112 128 144]\n",
      " [  0  16  32  48  64  80  96 112 128 144]\n",
      " [  0  16  32  48  64  80  96 112 128 144]\n",
      " [  0  16  32  48  64  80  96 112 128 144]\n",
      " [  0  16  32  48  64  80  96 112 128 144]\n",
      " [  0  16  32  48  64  80  96 112 128 144]\n",
      " [  0  16  32  48  64  80  96 112 128 144]\n",
      " [  0  16  32  48  64  80  96 112 128 144]\n",
      " [  0  16  32  48  64  80  96 112 128 144]]\n",
      "shift_y: [[  0   0   0   0   0   0   0   0   0   0]\n",
      " [ 16  16  16  16  16  16  16  16  16  16]\n",
      " [ 32  32  32  32  32  32  32  32  32  32]\n",
      " [ 48  48  48  48  48  48  48  48  48  48]\n",
      " [ 64  64  64  64  64  64  64  64  64  64]\n",
      " [ 80  80  80  80  80  80  80  80  80  80]\n",
      " [ 96  96  96  96  96  96  96  96  96  96]\n",
      " [112 112 112 112 112 112 112 112 112 112]\n",
      " [128 128 128 128 128 128 128 128 128 128]\n",
      " [144 144 144 144 144 144 144 144 144 144]]\n"
     ]
    }
   ],
   "source": [
    "shift_x, shift_y = np.meshgrid(shift_x, shift_y)\n",
    "print(\"shift_x:\",shift_x)\n",
    "print(\"shift_y:\",shift_y)"
   ]
  },
  {
   "cell_type": "code",
   "execution_count": 39,
   "metadata": {},
   "outputs": [
    {
     "name": "stdout",
     "output_type": "stream",
     "text": [
      "shifts_transpos: 100\n"
     ]
    }
   ],
   "source": [
    "shifts = np.vstack((shift_x.ravel(), shift_y.ravel(),shift_x.ravel(),shift_y.ravel()))\n",
    "shifts_transpose = shifts.transpose()\n",
    "# print(\"shifts:\",shifts)\n",
    "shifts_transpose=torch.from_numpy(shifts_transpose)\n",
    "print(\"shifts_transpos:\",shifts_transpose.size(0))\n"
   ]
  },
  {
   "cell_type": "code",
   "execution_count": 64,
   "metadata": {},
   "outputs": [
    {
     "name": "stdout",
     "output_type": "stream",
     "text": [
      "[[[ -84.  -24.  131.  103.]\n",
      "  [-176.  -72.  223.  151.]\n",
      "  [-360. -168.  407.  247.]\n",
      "  ...\n",
      "  [ 108.   64.  195.  239.]\n",
      "  [  64.  -24.  239.  327.]\n",
      "  [ -24. -200.  327.  503.]]]\n"
     ]
    }
   ],
   "source": [
    "anchors = a.reshape(1, 9, 4) + shifts.reshape(100, 1, 4)\n",
    "\n",
    "anchors = anchors.reshape(1,9*100,4)\n",
    "print(anchors)"
   ]
  },
  {
   "cell_type": "code",
   "execution_count": 65,
   "metadata": {},
   "outputs": [],
   "source": [
    "anchors = anchors.reshape(1,900,4)"
   ]
  },
  {
   "cell_type": "code",
   "execution_count": 67,
   "metadata": {},
   "outputs": [
    {
     "data": {
      "text/plain": [
       "(1, 900, 4)"
      ]
     },
     "execution_count": 67,
     "metadata": {},
     "output_type": "execute_result"
    }
   ],
   "source": [
    "anchors.shape"
   ]
  },
  {
   "cell_type": "code",
   "execution_count": 79,
   "metadata": {},
   "outputs": [],
   "source": [
    "a = np.random.rand(2,3,4)"
   ]
  },
  {
   "cell_type": "code",
   "execution_count": 80,
   "metadata": {},
   "outputs": [
    {
     "data": {
      "text/plain": [
       "array([[[0.35483246, 0.50374436, 0.48460624, 0.31009704],\n",
       "        [0.33868736, 0.49817436, 0.22757828, 0.27140811],\n",
       "        [0.12068433, 0.30963172, 0.21534427, 0.9504759 ]],\n",
       "\n",
       "       [[0.41138889, 0.61004444, 0.56730023, 0.73510276],\n",
       "        [0.98815535, 0.00859608, 0.5406151 , 0.27182155],\n",
       "        [0.19928739, 0.08759861, 0.43019506, 0.47275651]]])"
      ]
     },
     "execution_count": 80,
     "metadata": {},
     "output_type": "execute_result"
    }
   ],
   "source": [
    "a"
   ]
  },
  {
   "cell_type": "code",
   "execution_count": 81,
   "metadata": {},
   "outputs": [
    {
     "data": {
      "text/plain": [
       "array([[0.35483246, 0.50374436, 0.48460624, 0.31009704],\n",
       "       [0.33868736, 0.49817436, 0.22757828, 0.27140811],\n",
       "       [0.12068433, 0.30963172, 0.21534427, 0.9504759 ]])"
      ]
     },
     "execution_count": 81,
     "metadata": {},
     "output_type": "execute_result"
    }
   ],
   "source": [
    "a[0]"
   ]
  },
  {
   "cell_type": "code",
   "execution_count": null,
   "metadata": {},
   "outputs": [],
   "source": [
    "import torch\n",
    "scores = "
   ]
  }
 ],
 "metadata": {
  "kernelspec": {
   "display_name": "Python 3",
   "language": "python",
   "name": "python3"
  },
  "language_info": {
   "codemirror_mode": {
    "name": "ipython",
    "version": 3
   },
   "file_extension": ".py",
   "mimetype": "text/x-python",
   "name": "python",
   "nbconvert_exporter": "python",
   "pygments_lexer": "ipython3",
   "version": "3.7.3"
  }
 },
 "nbformat": 4,
 "nbformat_minor": 2
}
