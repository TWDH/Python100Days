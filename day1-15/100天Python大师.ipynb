{
 "cells": [
  {
   "cell_type": "code",
   "execution_count": 2,
   "metadata": {},
   "outputs": [
    {
     "name": "stdout",
     "output_type": "stream",
     "text": [
      "请输入一个正整数: 5\n",
      "5是素数\n"
     ]
    }
   ],
   "source": [
    "\"\"\"\n",
    "判断素数\n",
    "\"\"\"\n",
    "\n",
    "from math import sqrt\n",
    "\n",
    "num = int(input('请输入一个正整数: '))\n",
    "end = int(sqrt(num))\n",
    "is_prime = True\n",
    "for x in range(2, end + 1):\n",
    "    if num % x == 0:\n",
    "        is_prime = False\n",
    "        break\n",
    "if is_prime and num != 1:\n",
    "    print('%d是素数' % num)\n",
    "else:\n",
    "    print('%d不是素数' % num)"
   ]
  },
  {
   "cell_type": "code",
   "execution_count": 6,
   "metadata": {},
   "outputs": [
    {
     "name": "stdout",
     "output_type": "stream",
     "text": [
      "请输入行数: 3\n",
      "  *\n",
      " ***\n",
      "*****\n"
     ]
    }
   ],
   "source": [
    "\"\"\"\n",
    "打印三角形\n",
    "\"\"\"\n",
    "row = int(input('请输入行数: '))\n",
    "for i in range(row):\n",
    "    for _ in range(row - i - 1):\n",
    "        print(' ', end='')\n",
    "    for _ in range(2 * i + 1):\n",
    "        print('*', end='')\n",
    "    print()"
   ]
  },
  {
   "cell_type": "code",
   "execution_count": null,
   "metadata": {},
   "outputs": [],
   "source": [
    "\"\"\"\n",
    "Fibonacci\n",
    "\"\"\"\n",
    "a = 0\n",
    "b = 1\n",
    "for i in range(10):\n",
    "    a,b = b,a + b\n",
    "    print(a,end=',')"
   ]
  },
  {
   "cell_type": "code",
   "execution_count": null,
   "metadata": {},
   "outputs": [],
   "source": [
    "\"\"\"练习1：在屏幕上显示跑马灯文字\"\"\"\n",
    "import os\n",
    "import time\n",
    "\n",
    "def main():\n",
    "    content = \"Welcome to Beijing!\"\n",
    "    while True:\n",
    "        os.system('cls')\n",
    "        print(content)\n",
    "        time.sleep(0.2)\n",
    "        content = content[1:]+content[0]\n",
    "if __name__ =='__main__':\n",
    "    main()"
   ]
  },
  {
   "cell_type": "code",
   "execution_count": 16,
   "metadata": {},
   "outputs": [
    {
     "name": "stdout",
     "output_type": "stream",
     "text": [
      "boYZ\n"
     ]
    }
   ],
   "source": [
    "\"\"\"练习2：设计一个函数产生指定长度的验证码，验证码由大小写字母和数字构成。\"\"\"\n",
    "import random \n",
    "\n",
    "def generate_code(code_len=4):\n",
    "    \n",
    "    all_chars = '0123456789abcdefghijklmnopqrstuvwxyzABCDEFGHIJKLMNOPQRSTUVWXYZ'\n",
    "    last_position = len(all_chars)-1\n",
    "    code = ''\n",
    "    for i in range(code_len):\n",
    "        index = random.randint(0,last_position)\n",
    "        code += all_chars[index]\n",
    "    return code\n",
    "\n",
    "print(generate_code())\n",
    "\n",
    "\n",
    "\n"
   ]
  },
  {
   "cell_type": "code",
   "execution_count": 2,
   "metadata": {},
   "outputs": [
    {
     "data": {
      "text/plain": [
       "'.doc'"
      ]
     },
     "execution_count": 2,
     "metadata": {},
     "output_type": "execute_result"
    }
   ],
   "source": [
    "\"\"\"练习3：设计一个函数返回给定文件名的后缀名。\"\"\"\n",
    "def getsuffix(filename, has_dot=False):\n",
    "    pos = filename.rfind(\".\")\n",
    "    if 0<pos<len(filename)-1:\n",
    "        index = pos if has_dot else pos+1\n",
    "        return filename[index:]\n",
    "    else:\n",
    "        return ''\n",
    "\n",
    "getsuffix(\"abcde.doc\",True)"
   ]
  },
  {
   "cell_type": "code",
   "execution_count": 3,
   "metadata": {},
   "outputs": [
    {
     "data": {
      "text/plain": [
       "(5, 4)"
      ]
     },
     "execution_count": 3,
     "metadata": {},
     "output_type": "execute_result"
    }
   ],
   "source": [
    "\"\"\"练习4：设计一个函数返回传入的列表中最大和第二大的元素的值。\"\"\"\n",
    "def max(x):\n",
    "    m1,m2 = (x[0],x[1]) if x[0]>x[1] else (x[1],x[0])\n",
    "    for index in range(2,len(x)):\n",
    "        if x[index]>m1:\n",
    "            m2=m1\n",
    "            m1=x[index]\n",
    "        elif x[index]>m2:\n",
    "            m2=x[index]\n",
    "    return m1,m2\n",
    "max([1,2,3,4,5])"
   ]
  },
  {
   "cell_type": "code",
   "execution_count": null,
   "metadata": {},
   "outputs": [],
   "source": [
    "\"\"\"练习6：打印杨辉三角\"\"\"\n",
    "def main():\n",
    "    num = int(input('Number of rows: '))\n",
    "    yh=[[]] * num\n",
    "    for row in range(num):\n",
    "        yh[row]=[None] * (row+1)\n",
    "        for col in range(row+1):\n",
    "            if col==0 or col==row:\n",
    "                yh[row][col]=1\n",
    "            else:\n",
    "                yh[row][col]=yh[row-1][col]+yh[row-1][col-1]\n",
    "            print(yh[row][col],end='\\t')\n",
    "        print()\n",
    "if __name__=='__main__':\n",
    "    main()\n",
    "            \n",
    "            "
   ]
  }
 ],
 "metadata": {
  "kernelspec": {
   "display_name": "Python 3",
   "language": "python",
   "name": "python3"
  },
  "language_info": {
   "codemirror_mode": {
    "name": "ipython",
    "version": 3
   },
   "file_extension": ".py",
   "mimetype": "text/x-python",
   "name": "python",
   "nbconvert_exporter": "python",
   "pygments_lexer": "ipython3",
   "version": "3.7.3"
  }
 },
 "nbformat": 4,
 "nbformat_minor": 2
}
