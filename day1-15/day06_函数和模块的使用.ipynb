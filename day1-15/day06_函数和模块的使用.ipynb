{
 "cells": [
  {
   "cell_type": "code",
   "execution_count": 15,
   "metadata": {},
   "outputs": [],
   "source": [
    "\"\"\"\n",
    "练习1：实现计算求最大公约数和最小公倍数的函数。\n",
    "\"\"\"\n",
    "#最大公约数\n",
    "def gcd(x,y):\n",
    "    (x,y) = (y,x) if x>y else (x,y)\n",
    "    for factor in range(x,0,-1):\n",
    "        if x % factor ==0 and y % factor ==0:\n",
    "            return factor\n",
    "# 最小公倍数\n",
    "def lcm(x,y):\n",
    "    return x*y/gcd(x,y)"
   ]
  },
  {
   "cell_type": "code",
   "execution_count": 33,
   "metadata": {},
   "outputs": [
    {
     "name": "stdout",
     "output_type": "stream",
     "text": [
      "False\n"
     ]
    }
   ],
   "source": [
    "\"\"\"\n",
    "练习2：实现判断一个数是不是回文数的函数。\n",
    "\"\"\"\n",
    "def HWS(num):\n",
    "    temp = num\n",
    "    total = 0\n",
    "    \n",
    "    while temp>0:\n",
    "        total = total*10 + temp%10\n",
    "        temp//=10\n",
    "        \n",
    "    if num == total:       \n",
    "        return True\n",
    "    else:\n",
    "        return False\n",
    "\n",
    "print(HWS(1421))\n",
    "    "
   ]
  },
  {
   "cell_type": "code",
   "execution_count": 46,
   "metadata": {},
   "outputs": [],
   "source": [
    "\"\"\"\n",
    "练习3：实现判断一个数是不是素数的函数。\n",
    "\"\"\"\n",
    "def SUSHU(num):\n",
    "    for factor in range(2,num):\n",
    "        if num%factor ==0:\n",
    "            return False\n",
    "    return True if num!=1 else False\n",
    "\n",
    "if SUSHU(8) is True:\n",
    "    print(\"aa\")"
   ]
  },
  {
   "cell_type": "markdown",
   "metadata": {},
   "source": [
    "if __name__ == '__main__':\n",
    "    num = int(input(\"请输入正整数:\"))\n",
    "    if SUSHU(num) is True:\n",
    "        print(num)"
   ]
  },
  {
   "cell_type": "code",
   "execution_count": null,
   "metadata": {},
   "outputs": [],
   "source": []
  }
 ],
 "metadata": {
  "kernelspec": {
   "display_name": "Python 3",
   "language": "python",
   "name": "python3"
  },
  "language_info": {
   "codemirror_mode": {
    "name": "ipython",
    "version": 3
   },
   "file_extension": ".py",
   "mimetype": "text/x-python",
   "name": "python",
   "nbconvert_exporter": "python",
   "pygments_lexer": "ipython3",
   "version": "3.7.3"
  }
 },
 "nbformat": 4,
 "nbformat_minor": 2
}
