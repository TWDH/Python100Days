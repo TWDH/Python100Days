{
 "cells": [
  {
   "cell_type": "code",
   "execution_count": 7,
   "metadata": {
    "collapsed": true
   },
   "outputs": [
    {
     "name": "stdout",
     "output_type": "stream",
     "text": [
      "0\n",
      "1\n",
      "153\n",
      "370\n",
      "371\n",
      "407\n"
     ]
    }
   ],
   "source": [
    "\"\"\"\n",
    "水仙花数:\n",
    "水仙花数也被称为超完全数字不变数、自恋数、自幂数、阿姆斯特朗数，它是一个3位数，\n",
    "该数字每个位上数字的立方之和正好等于它本身，例如：$1^3 + 5^3+ 3^3=153\n",
    "\"\"\"\n",
    "for num in range(0,1000):\n",
    "    high = num // 100\n",
    "    mid = num // 10 % 10\n",
    "    low = num %10\n",
    "    \n",
    "    if num == high**3 + mid**3 + low**3:\n",
    "        print(num)"
   ]
  },
  {
   "cell_type": "code",
   "execution_count": 9,
   "metadata": {},
   "outputs": [
    {
     "name": "stdout",
     "output_type": "stream",
     "text": [
      "num=12345\n",
      "54321\n"
     ]
    }
   ],
   "source": [
    "\"\"\"\n",
    "正整数的反转:\n",
    "将12345变成54321\n",
    "\"\"\"\n",
    "num = int(input('num='))\n",
    "reversed_num = 0\n",
    "while num > 0:\n",
    "    reversed_num = reversed_num*10 + num%10\n",
    "    num = num//10\n",
    "print(reversed_num)"
   ]
  },
  {
   "cell_type": "code",
   "execution_count": 11,
   "metadata": {},
   "outputs": [
    {
     "name": "stdout",
     "output_type": "stream",
     "text": [
      "0 25 75\n",
      "4 18 78\n",
      "8 11 81\n",
      "12 4 84\n"
     ]
    }
   ],
   "source": [
    "\"\"\"\n",
    "百钱百鸡问题\n",
    "公鸡5元一只，母鸡3元一只，小鸡1元三只，用100块钱买一百只鸡，\n",
    "问公鸡、母鸡、小鸡各有多少只？\n",
    "\"\"\"\n",
    "for i in range(20):\n",
    "    for j in range(33):\n",
    "        z = 100-i-j\n",
    "        if i*5 +j*3 +z/3 == 100:\n",
    "            print(i,j,z)"
   ]
  },
  {
   "cell_type": "code",
   "execution_count": null,
   "metadata": {
    "scrolled": true
   },
   "outputs": [],
   "source": [
    "from random import randint\n",
    "money = 1000\n",
    "while money>0:\n",
    "    need_to_go = False\n",
    "    while True:\n",
    "        debt = int(input(\"请下注:\"))\n",
    "        if 0 < debt <= money:\n",
    "            break\n",
    "    first = randint(1,6) + randint(1,6)\n",
    "    print('first:',first)\n",
    "    if first ==7 or first ==11:\n",
    "        print(\"win\")\n",
    "        money +=debt\n",
    "    elif first==2 or first==3 or first==12:\n",
    "        print('lose')\n",
    "        money -=debt \n",
    "    else:\n",
    "        need_to_go = True\n",
    "    while need_to_go:\n",
    "        need_to_go = False\n",
    "        current = randint(1,6)+randint(1,6)\n",
    "        print('play get:', current)\n",
    "        if current == 7:\n",
    "            print('player lose')\n",
    "            money -= debt\n",
    "        elif current == first:\n",
    "            print('player win')\n",
    "            money += debt\n",
    "        else:\n",
    "            need_to_go =True\n",
    "print('game over')\n",
    "        "
   ]
  },
  {
   "cell_type": "code",
   "execution_count": 4,
   "metadata": {},
   "outputs": [
    {
     "name": "stdout",
     "output_type": "stream",
     "text": [
      "6\n",
      "28\n",
      "496\n",
      "8128\n"
     ]
    }
   ],
   "source": [
    "\"\"\"\n",
    "10000以内的完美数:\n",
    "完美数又称为完全数或完备数，它的所有的真因子（即除了自身以外的因子）的和（即因子函数）恰好等于它本身。\n",
    "例如：6（$6=1+2+3$）和28（$28=1+2+4+7+14$）就是完美数。\n",
    "\"\"\"\n",
    "for i in range(1,10000):\n",
    "    s = 0\n",
    "    for j in range(1,i):\n",
    "        if i % j ==0:\n",
    "            s +=j\n",
    "    if s ==i:\n",
    "        print(i)"
   ]
  },
  {
   "cell_type": "code",
   "execution_count": 10,
   "metadata": {},
   "outputs": [
    {
     "name": "stdout",
     "output_type": "stream",
     "text": [
      "2, 3, 5, 7, 11, 13, 17, 19, 23, 29, 31, 37, 41, 43, 47, 53, 59, 61, 67, 71, 73, 79, 83, 89, 97, "
     ]
    }
   ],
   "source": [
    "\"\"\"\n",
    "100以内所有的素数:\n",
    "素数指的是只能被1和自身整除的正整数（不包括1）\n",
    "\"\"\"\n",
    "for num in range(2,100):\n",
    "    is_prime = True\n",
    "    for factor in range(2,num):\n",
    "        if num%factor==0:\n",
    "            is_prime = False\n",
    "            break\n",
    "    if is_prime:\n",
    "        print(num,end=', ')\n",
    "   \n",
    "        "
   ]
  },
  {
   "cell_type": "code",
   "execution_count": null,
   "metadata": {},
   "outputs": [],
   "source": []
  },
  {
   "cell_type": "code",
   "execution_count": null,
   "metadata": {},
   "outputs": [],
   "source": []
  },
  {
   "cell_type": "code",
   "execution_count": null,
   "metadata": {},
   "outputs": [],
   "source": []
  },
  {
   "cell_type": "code",
   "execution_count": null,
   "metadata": {},
   "outputs": [],
   "source": []
  },
  {
   "cell_type": "code",
   "execution_count": null,
   "metadata": {},
   "outputs": [],
   "source": []
  },
  {
   "cell_type": "code",
   "execution_count": null,
   "metadata": {},
   "outputs": [],
   "source": []
  },
  {
   "cell_type": "code",
   "execution_count": null,
   "metadata": {},
   "outputs": [],
   "source": []
  },
  {
   "cell_type": "code",
   "execution_count": null,
   "metadata": {},
   "outputs": [],
   "source": []
  },
  {
   "cell_type": "code",
   "execution_count": null,
   "metadata": {},
   "outputs": [],
   "source": []
  },
  {
   "cell_type": "code",
   "execution_count": null,
   "metadata": {},
   "outputs": [],
   "source": []
  }
 ],
 "metadata": {
  "kernelspec": {
   "display_name": "Python 3",
   "language": "python",
   "name": "python3"
  },
  "language_info": {
   "codemirror_mode": {
    "name": "ipython",
    "version": 3
   },
   "file_extension": ".py",
   "mimetype": "text/x-python",
   "name": "python",
   "nbconvert_exporter": "python",
   "pygments_lexer": "ipython3",
   "version": "3.7.3"
  }
 },
 "nbformat": 4,
 "nbformat_minor": 2
}
