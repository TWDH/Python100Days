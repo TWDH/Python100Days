{
 "cells": [
  {
   "cell_type": "code",
   "execution_count": 13,
   "metadata": {},
   "outputs": [
    {
     "name": "stdout",
     "output_type": "stream",
     "text": [
      "please input username:kevinzhuhe\n",
      "please input qq:12345678\n",
      "Logging in ...\n"
     ]
    }
   ],
   "source": [
    "\"\"\"\n",
    "验证输入用户名和QQ号是否有效并给出对应的提示信息\n",
    "\"\"\"\n",
    "import re\n",
    "\n",
    "def main():\n",
    "    username = input(\"please input username:\")\n",
    "    qq = input('please input qq:')\n",
    "    m1 = re.match(r'^[0-9a-zA-Z_]{6,20}$', username)\n",
    "    if not m1:\n",
    "        print(\"Username is wrong!\")\n",
    "    \n",
    "    m2 = re.match(r'^[1-9]\\d{4,11}$', qq)\n",
    "    if not m2:\n",
    "        print('QQ is wrong!')\n",
    "        \n",
    "    if m1 and m2:\n",
    "        print('Logging in ...')\n",
    "main()"
   ]
  },
  {
   "cell_type": "code",
   "execution_count": 5,
   "metadata": {},
   "outputs": [
    {
     "name": "stdout",
     "output_type": "stream",
     "text": [
      "['13512346789', '15600998765', '15600998765']\n",
      "===============================\n",
      "13512346789\n",
      "15600998765\n",
      "15600998765\n",
      "===============================\n",
      "13512346789\n",
      "43\n",
      "<re.Match object; span=(32, 43), match='13512346789'>\n",
      "15600998765\n",
      "66\n",
      "<re.Match object; span=(55, 66), match='15600998765'>\n",
      "15600998765\n",
      "97\n",
      "<re.Match object; span=(86, 97), match='15600998765'>\n"
     ]
    }
   ],
   "source": [
    "import re\n",
    "\n",
    "def main():\n",
    "    pattern = re.compile(r'(?<=\\D)1[34578]\\d{9}(?=\\D)')\n",
    "    sentence = '''\n",
    "    重要的事情说8130123456789遍，我的手机号是13512346789这个靓号，\n",
    "    不是15600998765，也是110或119，王大锤的手机号才是15600998765。\n",
    "    '''\n",
    "    \n",
    "    mylist = re.findall(pattern, sentence)\n",
    "    print(mylist)\n",
    "    print('===============================')\n",
    "    # 通过迭代器取出匹配对象并获得匹配的内容\n",
    "    for temp in pattern.finditer(sentence):\n",
    "        print(temp.group())\n",
    "    print('===============================')    \n",
    "    #通过search函数指定搜索位置找出所有匹配\n",
    "    m = pattern.search(sentence)\n",
    "    \n",
    "    while m:\n",
    "        print(m.group())\n",
    "        print(m.end())\n",
    "        print(m)\n",
    "        m = pattern.search(sentence, m.end()) #最后一次无任何匹配，返回 none\n",
    "        \n",
    "    \n",
    "main()"
   ]
  },
  {
   "cell_type": "code",
   "execution_count": 11,
   "metadata": {},
   "outputs": [
    {
     "name": "stdout",
     "output_type": "stream",
     "text": [
      "你*是*吗? 我*你大爷的. * you.\n"
     ]
    }
   ],
   "source": [
    "\"\"\"\n",
    "替换字符串中的不良内容\n",
    "\"\"\"\n",
    "import re\n",
    "\n",
    "def main():\n",
    "    sentence = '你你丫是傻叉吗? 我操你大爷的. Fuck you.'\n",
    "    purified = re.sub('你[丫]|[操肏艹]|fuck|shit|傻[比屄逼叉缺吊屌]|煞笔',\n",
    "                     '*', sentence, flags = re.IGNORECASE)\n",
    "    print(purified)\n",
    "    \n",
    "main()\n"
   ]
  },
  {
   "cell_type": "code",
   "execution_count": 6,
   "metadata": {},
   "outputs": [
    {
     "name": "stdout",
     "output_type": "stream",
     "text": [
      "['窗前明月光', '疑是地上霜', '举头望明月', '低头思故乡']\n"
     ]
    }
   ],
   "source": [
    "\"\"\"\n",
    "拆分长字符串\n",
    "\"\"\"\n",
    "import re\n",
    "def main():\n",
    "    poem = '窗前明月光，疑是地上霜。举头望明月，低头思故乡。'\n",
    "    sentence_list = re.split(r'[，。]', poem)\n",
    "    \n",
    "    \n",
    "    while '' in sentence_list:\n",
    "        sentence_list.remove('')\n",
    "        print(sentence_list)\n",
    "    \n",
    "    \n",
    "main()\n"
   ]
  },
  {
   "cell_type": "code",
   "execution_count": null,
   "metadata": {},
   "outputs": [],
   "source": []
  }
 ],
 "metadata": {
  "kernelspec": {
   "display_name": "Python 3",
   "language": "python",
   "name": "python3"
  },
  "language_info": {
   "codemirror_mode": {
    "name": "ipython",
    "version": 3
   },
   "file_extension": ".py",
   "mimetype": "text/x-python",
   "name": "python",
   "nbconvert_exporter": "python",
   "pygments_lexer": "ipython3",
   "version": "3.7.3"
  }
 },
 "nbformat": 4,
 "nbformat_minor": 2
}
