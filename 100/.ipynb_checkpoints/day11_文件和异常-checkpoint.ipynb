{
 "cells": [
  {
   "cell_type": "code",
   "execution_count": 2,
   "metadata": {},
   "outputs": [
    {
     "name": "stdout",
     "output_type": "stream",
     "text": [
      "This is a example\n",
      "\n"
     ]
    }
   ],
   "source": [
    "\"\"\"\n",
    "open file\n",
    "在运行时可能会出现状况的代码放在try代码块中\n",
    "\"\"\"\n",
    "\n",
    "def main():\n",
    "    f = open(\"D:\\Code\\Python100Days\\Exercise\\day11.txt\", 'r', encoding='utf-8')\n",
    "    print(f.read())\n",
    "    f.close()\n",
    "    \n",
    "if __name__ == \"__main__\":\n",
    "    main()"
   ]
  },
  {
   "cell_type": "code",
   "execution_count": 23,
   "metadata": {},
   "outputs": [
    {
     "name": "stdout",
     "output_type": "stream",
     "text": [
      "can not find file\n"
     ]
    }
   ],
   "source": [
    "\"\"\"\n",
    "open file with exception\n",
    "\"\"\"\n",
    "def main():\n",
    "    f = None\n",
    "    try:\n",
    "        f = open(\"D:\\Code\\Python100Days\\Exercise\\day111.txt\", 'r', encoding='utf-8')\n",
    "        print(type(f))\n",
    "        print(f.read())\n",
    "        \n",
    "        \n",
    "        with open(\"D:\\Code\\Python100Days\\Exercise\\day111.txt\", 'r', encoding='utf-8') as f2:\n",
    "            print(f2.read())\n",
    "        \n",
    "    except FileNotFoundError:\n",
    "        print(\"can not find file\")\n",
    "    except LookupError:\n",
    "        print(\"unknown encoding\")\n",
    "    except UnicodeDecodeError:\n",
    "        print(\"decoding error\")\n",
    "    finally:\n",
    "        if f:\n",
    "            f.close()\n",
    "main()"
   ]
  },
  {
   "cell_type": "code",
   "execution_count": 18,
   "metadata": {},
   "outputs": [
    {
     "name": "stdout",
     "output_type": "stream",
     "text": [
      "['A Chinese doctor who got in trouble with authorities for sounding an early warning about the coronavirus outbreak died on Friday after coming down with the illness in early January, a hospital reported.\\n', '\\n', 'The Wuhan Central Hospital said on its social media account that Dr. Li Wenliang, a 34-year-old ophthalmologist, was \"unfortunately infected during the fight against the pneumonia epidemic of the new coronavirus infection.\"\\n', '\\n', '\"We deeply regret and mourn this,\" it said.']\n"
     ]
    }
   ],
   "source": [
    "\"\"\"\n",
    "for-in\n",
    "readlines\n",
    "\"\"\"\n",
    "import time\n",
    "def main():\n",
    "#     with open(\"D:\\Code\\Python100Days\\Exercise\\day11.txt\", 'r', encoding='utf-8') as f:\n",
    "#         print(f.read())\n",
    "        \n",
    "#     with open(\"D:\\Code\\Python100Days\\Exercise\\day11.txt\", mode='r') as f:\n",
    "#         for line in f:\n",
    "#             print(line, end='')\n",
    "#             time.sleep(0.5)\n",
    "    \n",
    "    with open(\"D:\\Code\\Python100Days\\Exercise\\day11.txt\") as f:\n",
    "        lines = f.readlines()\n",
    "    print(lines)\n",
    "\n",
    "main()"
   ]
  },
  {
   "cell_type": "code",
   "execution_count": 31,
   "metadata": {},
   "outputs": [],
   "source": [
    "\"\"\"\n",
    "write in the file\n",
    "\"\"\"\n",
    "from math import sqrt\n",
    "\n",
    "def is_prime(n):\n",
    "    assert n>0\n",
    "    for factor in range(2, int(sqrt(n))+1):\n",
    "        if n % factor ==0:\n",
    "            return False\n",
    "    return True if n!=1 else False\n",
    "\n",
    "def main():\n",
    "    filenames = ('PRIME_a.txt', 'PRIME_b.txt', 'PRIME_c.txt')\n",
    "    fs_list =[]\n",
    "    \n",
    "    try:\n",
    "        for filename in filenames:\n",
    "            fs_list.append(open(\"D:\\Code\\Python100Days\\Exercise\\\\\"+filename, 'w', encoding = 'utf-8'))\n",
    "        \n",
    "        for number in range(1, 10000):\n",
    "            if is_prime(number):\n",
    "                if number<100:\n",
    "                    fs_list[0].write(str(number)+ ', ')\n",
    "                elif number < 1000:\n",
    "                    fs_list[1].write(str(number)+ ', ')\n",
    "                elif number < 10000:\n",
    "                    fs_list[2].write(str(number)+ ', ')\n",
    "    except IOError as ex:\n",
    "        print(ex)\n",
    "        print(\" Failed to write\")\n",
    "    finally:\n",
    "        for fs in fs_list:\n",
    "            fs.close()\n",
    "                \n",
    "main()"
   ]
  },
  {
   "cell_type": "code",
   "execution_count": 43,
   "metadata": {},
   "outputs": [
    {
     "name": "stdout",
     "output_type": "stream",
     "text": [
      "<class 'bytes'>\n"
     ]
    }
   ],
   "source": [
    "\"\"\"\n",
    "read binary file\n",
    "\"\"\"\n",
    "def main():\n",
    "    try:\n",
    "        with open(\"D:\\Code\\Python100Days\\Exercise\\season.png\", 'rb') as fs1:\n",
    "            data = fs1.read()\n",
    "            print(type(data))\n",
    "        \n",
    "        with open(\"D:\\Code\\Python100Days\\Exercise\\season2.png\", 'wb') as fs2:\n",
    "            fs2.write(data)\n",
    "    except FileNotFoundError as e:\n",
    "        print(\"File can not be opened\")\n",
    "main()"
   ]
  },
  {
   "cell_type": "code",
   "execution_count": 45,
   "metadata": {},
   "outputs": [
    {
     "name": "stdout",
     "output_type": "stream",
     "text": [
      "Data saving Finished\n"
     ]
    }
   ],
   "source": [
    "\"\"\"\n",
    "dump - 将Python对象按照JSON格式序列化到文件中\n",
    "dumps - 将Python对象处理成JSON格式的字符串\n",
    "load - 将文件中的JSON数据反序列化成对象\n",
    "loads - 将字符串的内容反序列化成Python对象\n",
    "\"\"\"\n",
    "\n",
    "import json\n",
    "\n",
    "def main():\n",
    "    mydict = {\n",
    "        'name': \"TWDH\",\n",
    "        'age': 24,\n",
    "        'qq': 123984,\n",
    "        'friends':['YuanZhiHao', 'ZhangShuo'],\n",
    "        'cars':[\n",
    "            {'brand': 'BYD', 'max_speed':180},\n",
    "            {'brand': 'Audi', 'max_speed': 280},\n",
    "            {'brand': 'Benz', 'max_speed':320}\n",
    "        ]\n",
    "    }\n",
    "    try:\n",
    "        with open(\"D:\\Code\\Python100Days\\Exercise\\data.json\", 'w', encoding = 'utf-8') as fs:\n",
    "            json.dump(mydict, fs)\n",
    "    except IOError as e:\n",
    "        print(e)\n",
    "    print(\"Data saving Finished\")\n",
    "main()"
   ]
  },
  {
   "cell_type": "code",
   "execution_count": 50,
   "metadata": {},
   "outputs": [
    {
     "name": "stdout",
     "output_type": "stream",
     "text": [
      "180\n"
     ]
    }
   ],
   "source": [
    "mydict = {\n",
    "        'name': \"TWDH\",\n",
    "        'age': 24,\n",
    "        'qq': 123984,\n",
    "        'friends':['YuanZhiHao', 'ZhangShuo'],\n",
    "        'cars':[\n",
    "            {'brand': 'BYD', 'max_speed':180},\n",
    "            {'brand': 'Audi', 'max_speed': 280},\n",
    "            {'brand': 'Benz', 'max_speed':320}\n",
    "        ]\n",
    "    }\n",
    "print(mydict['cars'][0]['max_speed'])"
   ]
  },
  {
   "cell_type": "code",
   "execution_count": 51,
   "metadata": {},
   "outputs": [
    {
     "ename": "KeyError",
     "evalue": "'newslist'",
     "output_type": "error",
     "traceback": [
      "\u001b[1;31m---------------------------------------------------------------------------\u001b[0m",
      "\u001b[1;31mKeyError\u001b[0m                                  Traceback (most recent call last)",
      "\u001b[1;32m<ipython-input-51-b954d13dd43d>\u001b[0m in \u001b[0;36m<module>\u001b[1;34m\u001b[0m\n\u001b[0;32m     11\u001b[0m \u001b[1;33m\u001b[0m\u001b[0m\n\u001b[0;32m     12\u001b[0m \u001b[1;32mif\u001b[0m \u001b[0m__name__\u001b[0m \u001b[1;33m==\u001b[0m \u001b[1;34m'__main__'\u001b[0m\u001b[1;33m:\u001b[0m\u001b[1;33m\u001b[0m\u001b[1;33m\u001b[0m\u001b[0m\n\u001b[1;32m---> 13\u001b[1;33m     \u001b[0mmain\u001b[0m\u001b[1;33m(\u001b[0m\u001b[1;33m)\u001b[0m\u001b[1;33m\u001b[0m\u001b[1;33m\u001b[0m\u001b[0m\n\u001b[0m",
      "\u001b[1;32m<ipython-input-51-b954d13dd43d>\u001b[0m in \u001b[0;36mmain\u001b[1;34m()\u001b[0m\n\u001b[0;32m      6\u001b[0m     \u001b[0mresp\u001b[0m \u001b[1;33m=\u001b[0m \u001b[0mrequests\u001b[0m\u001b[1;33m.\u001b[0m\u001b[0mget\u001b[0m\u001b[1;33m(\u001b[0m\u001b[1;34m'http://api.tianapi.com/guonei/?key=APIKey&num=10'\u001b[0m\u001b[1;33m)\u001b[0m\u001b[1;33m\u001b[0m\u001b[1;33m\u001b[0m\u001b[0m\n\u001b[0;32m      7\u001b[0m     \u001b[0mdata_model\u001b[0m \u001b[1;33m=\u001b[0m \u001b[0mjson\u001b[0m\u001b[1;33m.\u001b[0m\u001b[0mloads\u001b[0m\u001b[1;33m(\u001b[0m\u001b[0mresp\u001b[0m\u001b[1;33m.\u001b[0m\u001b[0mtext\u001b[0m\u001b[1;33m)\u001b[0m\u001b[1;33m\u001b[0m\u001b[1;33m\u001b[0m\u001b[0m\n\u001b[1;32m----> 8\u001b[1;33m     \u001b[1;32mfor\u001b[0m \u001b[0mnews\u001b[0m \u001b[1;32min\u001b[0m \u001b[0mdata_model\u001b[0m\u001b[1;33m[\u001b[0m\u001b[1;34m'newslist'\u001b[0m\u001b[1;33m]\u001b[0m\u001b[1;33m:\u001b[0m\u001b[1;33m\u001b[0m\u001b[1;33m\u001b[0m\u001b[0m\n\u001b[0m\u001b[0;32m      9\u001b[0m         \u001b[0mprint\u001b[0m\u001b[1;33m(\u001b[0m\u001b[0mnews\u001b[0m\u001b[1;33m[\u001b[0m\u001b[1;34m'title'\u001b[0m\u001b[1;33m]\u001b[0m\u001b[1;33m)\u001b[0m\u001b[1;33m\u001b[0m\u001b[1;33m\u001b[0m\u001b[0m\n\u001b[0;32m     10\u001b[0m \u001b[1;33m\u001b[0m\u001b[0m\n",
      "\u001b[1;31mKeyError\u001b[0m: 'newslist'"
     ]
    }
   ],
   "source": [
    "import requests\n",
    "import json\n",
    "\n",
    "\n",
    "def main():\n",
    "    resp = requests.get('http://api.tianapi.com/guonei/?key=APIKey&num=10')\n",
    "    data_model = json.loads(resp.text)\n",
    "    for news in data_model['newslist']:\n",
    "        print(news['title'])\n",
    "\n",
    "\n",
    "if __name__ == '__main__':\n",
    "    main()"
   ]
  },
  {
   "cell_type": "code",
   "execution_count": null,
   "metadata": {},
   "outputs": [],
   "source": []
  }
 ],
 "metadata": {
  "kernelspec": {
   "display_name": "Python 3",
   "language": "python",
   "name": "python3"
  },
  "language_info": {
   "codemirror_mode": {
    "name": "ipython",
    "version": 3
   },
   "file_extension": ".py",
   "mimetype": "text/x-python",
   "name": "python",
   "nbconvert_exporter": "python",
   "pygments_lexer": "ipython3",
   "version": "3.7.3"
  }
 },
 "nbformat": 4,
 "nbformat_minor": 2
}
