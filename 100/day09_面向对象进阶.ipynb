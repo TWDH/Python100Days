{
 "cells": [
  {
   "cell_type": "markdown",
   "metadata": {},
   "source": [
    "# @property装饰器"
   ]
  },
  {
   "cell_type": "code",
   "execution_count": 1,
   "metadata": {},
   "outputs": [
    {
     "name": "stdout",
     "output_type": "stream",
     "text": [
      "WangDaChui is playing toy\n",
      "WangDaChui is playing sm\n"
     ]
    }
   ],
   "source": [
    "class Person(object):\n",
    "    def __init__(self, name, age):\n",
    "        self._name = name\n",
    "        self._age = age\n",
    "    \n",
    "    @property\n",
    "    def name(self):\n",
    "        return self.name\n",
    "    \n",
    "    @property\n",
    "    def age(self):\n",
    "        return self._age\n",
    "    \n",
    "    @age.setter\n",
    "    def age(self, age):\n",
    "        self._age = age\n",
    "    \n",
    "    def play(self):\n",
    "        if self._age <= 16:\n",
    "            print(\"%s is playing toy\" % self._name)\n",
    "        else:\n",
    "            print(\"%s is playing sm\" % self._name)\n",
    "def main():\n",
    "    person = Person(\"WangDaChui\", 12)\n",
    "    person.play()\n",
    "    person.age = 22\n",
    "    person.play()\n",
    "\n",
    "if __name__ == '__main__':\n",
    "    main()"
   ]
  },
  {
   "cell_type": "markdown",
   "metadata": {},
   "source": [
    "# __slots__魔法"
   ]
  },
  {
   "cell_type": "code",
   "execution_count": 3,
   "metadata": {},
   "outputs": [
    {
     "name": "stdout",
     "output_type": "stream",
     "text": [
      "wangdachui is playing sm\n"
     ]
    }
   ],
   "source": [
    "class Person(object):\n",
    "    __slots__ =('_name','_age','_gender')\n",
    "    \n",
    "    def __init__(self, name, age):\n",
    "        self._name = name\n",
    "        self._age = age\n",
    "        \n",
    "    @property\n",
    "    def name(self):\n",
    "        return self._name\n",
    "    \n",
    "    @property\n",
    "    def age(self):\n",
    "        return self._age\n",
    "    \n",
    "    @age.setter\n",
    "    def age(self, age):\n",
    "        self._age = age\n",
    "    \n",
    "    def play(self):\n",
    "        if self._age <16:\n",
    "            print(\"% is playing toy\" % self._name)\n",
    "        else:\n",
    "            print(\"%s is playing sm\" % self._name)\n",
    "def main():\n",
    "    person = Person(\"wangdachui\", 22)\n",
    "    person.play()\n",
    "    person._gender = 'man'\n",
    "    \n",
    "if __name__ == '__main__':\n",
    "    main()"
   ]
  },
  {
   "cell_type": "markdown",
   "metadata": {},
   "source": [
    "# 静态方法和类方法"
   ]
  },
  {
   "cell_type": "code",
   "execution_count": 5,
   "metadata": {},
   "outputs": [
    {
     "name": "stdout",
     "output_type": "stream",
     "text": [
      "12\n",
      "6.0\n"
     ]
    }
   ],
   "source": [
    "from math import sqrt\n",
    "class Triangle(object):\n",
    "    def __init__(self,a,b,c):\n",
    "        self._a = a\n",
    "        self._b = b\n",
    "        self._c = c\n",
    "    \n",
    "    @staticmethod\n",
    "    def is_valid(a, b, c):\n",
    "        return a+b>c and b+c>a and a+c>b\n",
    "    \n",
    "    def perimeter(self):\n",
    "        return self._a +self._b +self._c\n",
    "    \n",
    "    def area(self):\n",
    "        half = self.perimeter()/2\n",
    "        return sqrt(half * (half-self._a) * (half-self._b) * (half-self._c))\n",
    "    \n",
    "def main():\n",
    "    a,b,c = 3,4,5\n",
    "    if Triangle.is_valid(a,b,c):\n",
    "        t = Triangle(a,b,c)\n",
    "        print(t.perimeter())\n",
    "        print(t.area())\n",
    "    else:\n",
    "        print(\"can not form triangle\")\n",
    "\n",
    "if __name__ == \"__main__\":\n",
    "    main()"
   ]
  },
  {
   "cell_type": "code",
   "execution_count": null,
   "metadata": {},
   "outputs": [],
   "source": []
  },
  {
   "cell_type": "code",
   "execution_count": null,
   "metadata": {},
   "outputs": [],
   "source": []
  }
 ],
 "metadata": {
  "kernelspec": {
   "display_name": "Python 3",
   "language": "python",
   "name": "python3"
  },
  "language_info": {
   "codemirror_mode": {
    "name": "ipython",
    "version": 3
   },
   "file_extension": ".py",
   "mimetype": "text/x-python",
   "name": "python",
   "nbconvert_exporter": "python",
   "pygments_lexer": "ipython3",
   "version": "3.7.3"
  }
 },
 "nbformat": 4,
 "nbformat_minor": 2
}
