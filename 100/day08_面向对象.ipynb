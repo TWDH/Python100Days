{
 "cells": [
  {
   "cell_type": "code",
   "execution_count": 26,
   "metadata": {},
   "outputs": [
    {
     "name": "stdout",
     "output_type": "stream",
     "text": [
      "Kevin is studying python programming\n",
      "Kevin can watch JAV\n"
     ]
    }
   ],
   "source": [
    "\"\"\"定义类\"\"\"\n",
    "\n",
    "class Student(object):\n",
    "    def  __init__(self,name,age):\n",
    "        self.name = name\n",
    "        self.age =age\n",
    "    \n",
    "    def study(self,course_name):\n",
    "        print('%s is studying %s' %(self.name,course_name))\n",
    "        \n",
    "    def watch_movie(self):\n",
    "        if self.age<18:\n",
    "            print('%s only watch cartons' %self.name)\n",
    "        else:\n",
    "            print('%s can watch JAV' %self.name)\n",
    "            \n",
    "\"\"\"创建与使用对象\"\"\"\n",
    "\n",
    "def main():\n",
    "    #创建学生对象并制定姓名年龄\n",
    "    student1 = Student('Kevin',23)\n",
    "    #给对象发出study（方法）消息\n",
    "    student1.study('python programming')\n",
    "    #给对象发出movie消息\n",
    "    student1.watch_movie()\n",
    "\n",
    "if __name__ =='__main__':\n",
    "    main()"
   ]
  },
  {
   "cell_type": "code",
   "execution_count": 6,
   "metadata": {},
   "outputs": [
    {
     "name": "stdout",
     "output_type": "stream",
     "text": [
      "hello\n",
      "__bar\n",
      "hello\n"
     ]
    }
   ],
   "source": [
    "\"\"\"访问的可见性问题\"\"\"\n",
    "class Test:\n",
    "    def __init__(self,foo):\n",
    "        self.__foo = foo # 属性私有，命名时用两个下划线作为开头\n",
    "    def __bar(self):\n",
    "        print(self.__foo)\n",
    "        print('__bar')\n",
    "\n",
    "def main():\n",
    "    test = Test('hello')\n",
    "    test._Test__bar()\n",
    "    print(test._Test__foo)\n",
    "\n",
    "if __name__ ==\"__main__\":\n",
    "    main()\n",
    "\"\"\"本来是私有属性，在头前加上_Test则可以正常访问\"\"\""
   ]
  },
  {
   "cell_type": "code",
   "execution_count": null,
   "metadata": {},
   "outputs": [],
   "source": [
    "\"\"\"Exercise 1: Clock\"\"\"\n",
    "from time import sleep\n",
    "\n",
    "\n",
    "class Clock(object):\n",
    "    \n",
    "    \"\"\"initialize method\"\"\"\n",
    "    def __init__(self,hour=0,minute=0,second=0):\n",
    "        self._hour = hour\n",
    "        self._minute = minute\n",
    "        self._second = second\n",
    "    \"\"\"Run the clock\"\"\"\n",
    "    def run(self):\n",
    "        self._second += 1\n",
    "        if self._second ==60:\n",
    "            self._second = 0\n",
    "            self._minute +=1\n",
    "            if self._minute ==60:\n",
    "                self._minute =0\n",
    "                self._hour +=1\n",
    "                if self._hour ==24:\n",
    "                    self._hour = 0\n",
    "    \"\"\"Show Time\"\"\"\n",
    "    def show(self):\n",
    "        return '%02d:%02d:%02d' %(self._hour,self._minute,self._second)\n",
    "    \n",
    "def main():\n",
    "    clock = Clock(23,59,58)\n",
    "    while True:\n",
    "        print(clock.show())\n",
    "        sleep(1)\n",
    "        clock.run()\n",
    "    \n",
    "if __name__ == '__main__':\n",
    "    main()\n",
    "        \n",
    "            \n",
    "        "
   ]
  },
  {
   "cell_type": "code",
   "execution_count": 25,
   "metadata": {},
   "outputs": [
    {
     "name": "stdout",
     "output_type": "stream",
     "text": [
      "3 5\n",
      "0 0\n",
      "-1 2\n",
      "5.0\n"
     ]
    }
   ],
   "source": [
    "\"\"\"Exercise 2 Distance between two points\"\"\"\n",
    "\n",
    "from math import sqrt\n",
    "class Point(object):\n",
    "    \n",
    "    def __init__(self,x=0,y=0):\n",
    "        self.x = x\n",
    "        self.y = y\n",
    "    \n",
    "    def move_to (self,x,y):\n",
    "        self.x = x\n",
    "        self.y = y\n",
    "    \n",
    "    def move_by (self,dx,dy):\n",
    "        self.x += dx\n",
    "        self.y += dy\n",
    "    \n",
    "    def distance (self,other):\n",
    "        dx = self.x - other.x   #other属于Point类，初始化后就有x,y属性\n",
    "        dy = self.y - other.y\n",
    "        return sqrt(dx**2 + dy**2)\n",
    "    \n",
    "    \n",
    "def main():\n",
    "    p1 = Point(3,5)\n",
    "    p2 = Point()\n",
    "    print(p1.x,p1.y)\n",
    "    print(p2.x,p2.y)\n",
    "    p2.move_by(-1,2)\n",
    "    print(p2.x,p2.y)\n",
    "    print(p1.distance(p2))\n",
    "    \n",
    "if __name__ == '__main__':\n",
    "    main()"
   ]
  },
  {
   "cell_type": "code",
   "execution_count": null,
   "metadata": {},
   "outputs": [],
   "source": []
  },
  {
   "cell_type": "code",
   "execution_count": null,
   "metadata": {},
   "outputs": [],
   "source": []
  },
  {
   "cell_type": "code",
   "execution_count": null,
   "metadata": {},
   "outputs": [],
   "source": []
  },
  {
   "cell_type": "code",
   "execution_count": null,
   "metadata": {},
   "outputs": [],
   "source": []
  },
  {
   "cell_type": "code",
   "execution_count": null,
   "metadata": {},
   "outputs": [],
   "source": []
  },
  {
   "cell_type": "code",
   "execution_count": null,
   "metadata": {},
   "outputs": [],
   "source": []
  },
  {
   "cell_type": "code",
   "execution_count": null,
   "metadata": {},
   "outputs": [],
   "source": []
  },
  {
   "cell_type": "code",
   "execution_count": null,
   "metadata": {},
   "outputs": [],
   "source": []
  },
  {
   "cell_type": "code",
   "execution_count": null,
   "metadata": {},
   "outputs": [],
   "source": []
  },
  {
   "cell_type": "code",
   "execution_count": null,
   "metadata": {},
   "outputs": [],
   "source": []
  },
  {
   "cell_type": "code",
   "execution_count": null,
   "metadata": {},
   "outputs": [],
   "source": []
  },
  {
   "cell_type": "code",
   "execution_count": null,
   "metadata": {},
   "outputs": [],
   "source": []
  },
  {
   "cell_type": "code",
   "execution_count": null,
   "metadata": {},
   "outputs": [],
   "source": []
  },
  {
   "cell_type": "code",
   "execution_count": null,
   "metadata": {},
   "outputs": [],
   "source": []
  },
  {
   "cell_type": "code",
   "execution_count": null,
   "metadata": {},
   "outputs": [],
   "source": []
  },
  {
   "cell_type": "code",
   "execution_count": null,
   "metadata": {},
   "outputs": [],
   "source": []
  }
 ],
 "metadata": {
  "kernelspec": {
   "display_name": "Python 3",
   "language": "python",
   "name": "python3"
  },
  "language_info": {
   "codemirror_mode": {
    "name": "ipython",
    "version": 3
   },
   "file_extension": ".py",
   "mimetype": "text/x-python",
   "name": "python",
   "nbconvert_exporter": "python",
   "pygments_lexer": "ipython3",
   "version": "3.7.3"
  }
 },
 "nbformat": 4,
 "nbformat_minor": 2
}
